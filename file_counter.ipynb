{
  "nbformat": 4,
  "nbformat_minor": 0,
  "metadata": {
    "colab": {
      "name": "file_counter.ipynb",
      "provenance": [],
      "mount_file_id": "1oaN0XU0AHXgClfyZUuXEVXGDiETnB3W0",
      "authorship_tag": "ABX9TyMPRF6DFjRllfP9PjFNFrQ4",
      "include_colab_link": true
    },
    "kernelspec": {
      "name": "python3",
      "display_name": "Python 3"
    },
    "language_info": {
      "name": "python"
    }
  },
  "cells": [
    {
      "cell_type": "markdown",
      "metadata": {
        "id": "view-in-github",
        "colab_type": "text"
      },
      "source": [
        "<a href=\"https://colab.research.google.com/github/maplbop135/test/blob/master/file_counter.ipynb\" target=\"_parent\"><img src=\"https://colab.research.google.com/assets/colab-badge.svg\" alt=\"Open In Colab\"/></a>"
      ]
    },
    {
      "cell_type": "code",
      "metadata": {
        "colab": {
          "base_uri": "https://localhost:8080/"
        },
        "id": "igL9sy3LBdT6",
        "outputId": "a256f3d6-5c5d-4c13-bc79-b70afcfab683"
      },
      "source": [
        "from google.colab import drive\n",
        "drive.mount('/content/drive')"
      ],
      "execution_count": 1,
      "outputs": [
        {
          "output_type": "stream",
          "name": "stdout",
          "text": [
            "Drive already mounted at /content/drive; to attempt to forcibly remount, call drive.mount(\"/content/drive\", force_remount=True).\n"
          ]
        }
      ]
    },
    {
      "cell_type": "code",
      "metadata": {
        "id": "Jmwz4WP6B1uL"
      },
      "source": [
        "import os\n",
        "ROOT_PATH = '/content/drive/MyDrive/Test/'"
      ],
      "execution_count": 2,
      "outputs": []
    },
    {
      "cell_type": "code",
      "metadata": {
        "colab": {
          "base_uri": "https://localhost:8080/"
        },
        "id": "QNiw3ub5CQIS",
        "outputId": "73d7702d-e85e-4b2e-ee2e-1225063433b5"
      },
      "source": [
        "cnt = 0\n",
        "\n",
        "def print_files_in_dir(root_dir, prefix):\n",
        "    files = os.listdir(root_dir)\n",
        "    for file in files:\n",
        "        path = os.path.join(root_dir, file)\n",
        "        # print(prefix + path)\n",
        "        global cnt\n",
        "        cnt = cnt + 1\n",
        "        if os.path.isdir(path):\n",
        "            print_files_in_dir(path, prefix + \"    \")\n",
        "\n",
        "if __name__ == \"__main__\":\n",
        "    print_files_in_dir(ROOT_PATH, \"\")\n",
        "    print(cnt)"
      ],
      "execution_count": 3,
      "outputs": [
        {
          "output_type": "stream",
          "name": "stdout",
          "text": [
            "6\n"
          ]
        }
      ]
    },
    {
      "cell_type": "code",
      "metadata": {
        "id": "wqBEu08HK2-p"
      },
      "source": [
        ""
      ],
      "execution_count": null,
      "outputs": []
    }
  ]
}